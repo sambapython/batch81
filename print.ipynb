{
 "cells": [
  {
   "cell_type": "code",
   "execution_count": 1,
   "metadata": {},
   "outputs": [
    {
     "name": "stdout",
     "output_type": "stream",
     "text": [
      "hello\n"
     ]
    }
   ],
   "source": [
    "print(\"hello\")"
   ]
  },
  {
   "cell_type": "code",
   "execution_count": 2,
   "metadata": {},
   "outputs": [
    {
     "name": "stdout",
     "output_type": "stream",
     "text": [
      "hello\n",
      "hi\n"
     ]
    }
   ],
   "source": [
    "print(\"hello\")\n",
    "print(\"hi\")"
   ]
  },
  {
   "cell_type": "code",
   "execution_count": 3,
   "metadata": {},
   "outputs": [
    {
     "name": "stdout",
     "output_type": "stream",
     "text": [
      "hello\n",
      "hi\n"
     ]
    }
   ],
   "source": [
    "print(\"hello\\nhi\")"
   ]
  },
  {
   "cell_type": "code",
   "execution_count": 4,
   "metadata": {},
   "outputs": [
    {
     "name": "stdout",
     "output_type": "stream",
     "text": [
      "hello\thi\n"
     ]
    }
   ],
   "source": [
    "print(\"hello\\thi\")"
   ]
  },
  {
   "cell_type": "code",
   "execution_count": 5,
   "metadata": {},
   "outputs": [
    {
     "name": "stdout",
     "output_type": "stream",
     "text": [
      "hello\n",
      "hi\n"
     ]
    }
   ],
   "source": [
    "print(\"hello\")\n",
    "print(\"hi\")"
   ]
  },
  {
   "cell_type": "code",
   "execution_count": 6,
   "metadata": {},
   "outputs": [
    {
     "name": "stdout",
     "output_type": "stream",
     "text": [
      "hello hi\n"
     ]
    }
   ],
   "source": [
    "print(\"hello\", end=\" \")\n",
    "print(\"hi\")"
   ]
  },
  {
   "cell_type": "code",
   "execution_count": 7,
   "metadata": {},
   "outputs": [
    {
     "name": "stdout",
     "output_type": "stream",
     "text": [
      "hello\n",
      "hi\n"
     ]
    }
   ],
   "source": [
    "print(\"hello\")\n",
    "print(\"hi\")"
   ]
  },
  {
   "cell_type": "code",
   "execution_count": 8,
   "metadata": {},
   "outputs": [
    {
     "name": "stdout",
     "output_type": "stream",
     "text": [
      "hello;hi\n"
     ]
    }
   ],
   "source": [
    "print(\"hello\", end=\";\")\n",
    "print(\"hi\")"
   ]
  },
  {
   "cell_type": "code",
   "execution_count": 9,
   "metadata": {},
   "outputs": [
    {
     "name": "stdout",
     "output_type": "stream",
     "text": [
      "hello\n",
      "hi\n"
     ]
    }
   ],
   "source": [
    "print(\"hello\", end=\"\\n\")\n",
    "print(\"hi\")"
   ]
  },
  {
   "cell_type": "code",
   "execution_count": 10,
   "metadata": {},
   "outputs": [
    {
     "name": "stdout",
     "output_type": "stream",
     "text": [
      "hello+hi\n"
     ]
    }
   ],
   "source": [
    "print(\"hello\", end=\"+\")\n",
    "print(\"hi\")"
   ]
  },
  {
   "cell_type": "code",
   "execution_count": 11,
   "metadata": {},
   "outputs": [
    {
     "name": "stdout",
     "output_type": "stream",
     "text": [
      "name, age, height, weight\n"
     ]
    }
   ],
   "source": [
    "name=\"Jay\"\n",
    "age=5.678\n",
    "height = 3.446576\n",
    "weight = 19.87567\n",
    "s=\"name, age, height, weight\"\n",
    "print(s)"
   ]
  },
  {
   "cell_type": "code",
   "execution_count": 12,
   "metadata": {},
   "outputs": [
    {
     "name": "stdout",
     "output_type": "stream",
     "text": [
      "('Jay', 5.678, 3.446576, 19.87567)\n"
     ]
    }
   ],
   "source": [
    "name=\"Jay\"\n",
    "age=5.678\n",
    "height = 3.446576\n",
    "weight = 19.87567\n",
    "s=(name, age, height, weight)\n",
    "print(s)"
   ]
  },
  {
   "cell_type": "code",
   "execution_count": 13,
   "metadata": {},
   "outputs": [
    {
     "name": "stdout",
     "output_type": "stream",
     "text": [
      "Jay\n"
     ]
    }
   ],
   "source": [
    "name=\"Jay\"\n",
    "age=5.678\n",
    "height = 3.446576\n",
    "weight = 19.87567\n",
    "s=(name, age, height, weight)\n",
    "# Jay is 5.678 years old, has 3.45Feet height and 19.86KG weight.\n",
    "print(name)"
   ]
  },
  {
   "cell_type": "code",
   "execution_count": 14,
   "metadata": {},
   "outputs": [
    {
     "name": "stdout",
     "output_type": "stream",
     "text": [
      "Jay is \n"
     ]
    }
   ],
   "source": [
    "name=\"Jay\"\n",
    "age=5.678\n",
    "height = 3.446576\n",
    "weight = 19.87567\n",
    "s=(name, age, height, weight)\n",
    "# Jay is 5.678 years old, has 3.45Feet height and 19.86KG weight.\n",
    "print(name,\"is \")"
   ]
  },
  {
   "cell_type": "code",
   "execution_count": 16,
   "metadata": {},
   "outputs": [
    {
     "name": "stdout",
     "output_type": "stream",
     "text": [
      "Jay is 5.678\n"
     ]
    }
   ],
   "source": [
    "name=\"Jay\"\n",
    "age=5.678\n",
    "height = 3.446576\n",
    "weight = 19.87567\n",
    "s=(name, age, height, weight)\n",
    "# Jay is 5.678 years old, has 3.45Feet height and 19.86KG weight.\n",
    "print(name,\"is\",age)"
   ]
  },
  {
   "cell_type": "code",
   "execution_count": 17,
   "metadata": {},
   "outputs": [
    {
     "name": "stdout",
     "output_type": "stream",
     "text": [
      "Jay is 5.678 years old, has\n"
     ]
    }
   ],
   "source": [
    "name=\"Jay\"\n",
    "age=5.678\n",
    "height = 3.446576\n",
    "weight = 19.87567\n",
    "s=(name, age, height, weight)\n",
    "# Jay is 5.678 years old, has 3.45Feet height and 19.86KG weight.\n",
    "print(name,\"is\",age,\"years old, has\")"
   ]
  },
  {
   "cell_type": "code",
   "execution_count": 18,
   "metadata": {},
   "outputs": [
    {
     "name": "stdout",
     "output_type": "stream",
     "text": [
      "Jay is 5.678 years old, has 3.446576\n"
     ]
    }
   ],
   "source": [
    "name=\"Jay\"\n",
    "age=5.678\n",
    "height = 3.446576\n",
    "weight = 19.87567\n",
    "s=(name, age, height, weight)\n",
    "# Jay is 5.678 years old, has 3.45Feet height and 19.86KG weight.\n",
    "print(name,\"is\",age,\"years old, has\",height)"
   ]
  },
  {
   "cell_type": "code",
   "execution_count": 19,
   "metadata": {},
   "outputs": [
    {
     "name": "stdout",
     "output_type": "stream",
     "text": [
      "Jay is 5.678 years old, has 3.45\n"
     ]
    }
   ],
   "source": [
    "name=\"Jay\"\n",
    "age=5.678\n",
    "height = 3.446576\n",
    "weight = 19.87567\n",
    "s=(name, age, height, weight)\n",
    "# Jay is 5.678 years old, has 3.45Feet height and 19.86KG weight.\n",
    "print(name,\"is\",age,\"years old, has\",round(height,2))"
   ]
  },
  {
   "cell_type": "code",
   "execution_count": 20,
   "metadata": {},
   "outputs": [
    {
     "name": "stdout",
     "output_type": "stream",
     "text": [
      "Jay is 5.678 years old, has 3.45 Feet\n"
     ]
    }
   ],
   "source": [
    "name=\"Jay\"\n",
    "age=5.678\n",
    "height = 3.446576\n",
    "weight = 19.87567\n",
    "s=(name, age, height, weight)\n",
    "# Jay is 5.678 years old, has 3.45Feet height and 19.86KG weight.\n",
    "print(name,\"is\",age,\"years old, has\",round(height,2),\"Feet\")"
   ]
  },
  {
   "cell_type": "code",
   "execution_count": 21,
   "metadata": {},
   "outputs": [
    {
     "name": "stdout",
     "output_type": "stream",
     "text": [
      "jay 3\n"
     ]
    }
   ],
   "source": [
    "name=\"jay\"\n",
    "age=3\n",
    "print(name,age)"
   ]
  },
  {
   "cell_type": "code",
   "execution_count": 22,
   "metadata": {},
   "outputs": [
    {
     "ename": "TypeError",
     "evalue": "can only concatenate str (not \"int\") to str",
     "output_type": "error",
     "traceback": [
      "\u001b[1;31m---------------------------------------------------------------------------\u001b[0m",
      "\u001b[1;31mTypeError\u001b[0m                                 Traceback (most recent call last)",
      "\u001b[1;32m<ipython-input-22-5cff018c96a9>\u001b[0m in \u001b[0;36m<module>\u001b[1;34m\u001b[0m\n\u001b[0;32m      1\u001b[0m \u001b[0mname\u001b[0m\u001b[1;33m=\u001b[0m\u001b[1;34m\"jay\"\u001b[0m\u001b[1;33m\u001b[0m\u001b[1;33m\u001b[0m\u001b[0m\n\u001b[0;32m      2\u001b[0m \u001b[0mage\u001b[0m\u001b[1;33m=\u001b[0m\u001b[1;36m3\u001b[0m\u001b[1;33m\u001b[0m\u001b[1;33m\u001b[0m\u001b[0m\n\u001b[1;32m----> 3\u001b[1;33m \u001b[0mprint\u001b[0m\u001b[1;33m(\u001b[0m\u001b[0mname\u001b[0m\u001b[1;33m+\u001b[0m\u001b[0mage\u001b[0m\u001b[1;33m)\u001b[0m\u001b[1;33m\u001b[0m\u001b[1;33m\u001b[0m\u001b[0m\n\u001b[0m",
      "\u001b[1;31mTypeError\u001b[0m: can only concatenate str (not \"int\") to str"
     ]
    }
   ],
   "source": [
    "name=\"jay\"\n",
    "age=3\n",
    "print(name+age)"
   ]
  },
  {
   "cell_type": "code",
   "execution_count": 23,
   "metadata": {},
   "outputs": [
    {
     "name": "stdout",
     "output_type": "stream",
     "text": [
      "jay3\n"
     ]
    }
   ],
   "source": [
    "name=\"jay\"\n",
    "age=3\n",
    "print(name+str(age))"
   ]
  },
  {
   "cell_type": "code",
   "execution_count": 24,
   "metadata": {},
   "outputs": [
    {
     "name": "stdout",
     "output_type": "stream",
     "text": [
      "Jay is 5.678 years old, has 3.45Feet\n"
     ]
    }
   ],
   "source": [
    "name=\"Jay\"\n",
    "age=5.678\n",
    "height = 3.446576\n",
    "weight = 19.87567\n",
    "s=(name, age, height, weight)\n",
    "# Jay is 5.678 years old, has 3.45Feet height and 19.86KG weight.\n",
    "print(name,\"is\",age,\"years old, has\",str(round(height,2))+\"Feet\")"
   ]
  },
  {
   "cell_type": "code",
   "execution_count": 25,
   "metadata": {},
   "outputs": [
    {
     "name": "stdout",
     "output_type": "stream",
     "text": [
      "Jay is 5.678 years old, has 3.45Feet and 19.87567\n"
     ]
    }
   ],
   "source": [
    "name=\"Jay\"\n",
    "age=5.678\n",
    "height = 3.446576\n",
    "weight = 19.87567\n",
    "s=(name, age, height, weight)\n",
    "# Jay is 5.678 years old, has 3.45Feet height and 19.86KG weight.\n",
    "print(name,\"is\",age,\"years old, has\",str(round(height,2))+\"Feet and\",weight)"
   ]
  },
  {
   "cell_type": "code",
   "execution_count": 26,
   "metadata": {},
   "outputs": [
    {
     "name": "stdout",
     "output_type": "stream",
     "text": [
      "Jay is 5.678 years old, has 3.45Feet and 19.88\n"
     ]
    }
   ],
   "source": [
    "name=\"Jay\"\n",
    "age=5.678\n",
    "height = 3.446576\n",
    "weight = 19.87567\n",
    "s=(name, age, height, weight)\n",
    "# Jay is 5.678 years old, has 3.45Feet height and 19.86KG weight.\n",
    "print(name,\"is\",age,\"years old, has\",str(round(height,2))+\"Feet and\",round(weight,2))"
   ]
  },
  {
   "cell_type": "code",
   "execution_count": 28,
   "metadata": {},
   "outputs": [
    {
     "name": "stdout",
     "output_type": "stream",
     "text": [
      "Jay is 5.678 years old, has 3.45Feet and 19.88KG\n"
     ]
    }
   ],
   "source": [
    "name=\"Jay\"\n",
    "age=5.678\n",
    "height = 3.446576\n",
    "weight = 19.87567\n",
    "s=(name, age, height, weight)\n",
    "# Jay is 5.678 years old, has 3.45Feet height and 19.86KG weight.\n",
    "print(name,\"is\",age,\"years old, has\",str(round(height,2))+\"Feet and\",str(round(weight,2))+\"KG\")"
   ]
  },
  {
   "cell_type": "code",
   "execution_count": 29,
   "metadata": {},
   "outputs": [
    {
     "name": "stdout",
     "output_type": "stream",
     "text": [
      "Jay is 5.678 years old, has 3.45Feet and 19.88KG weight\n"
     ]
    }
   ],
   "source": [
    "name=\"Jay\"\n",
    "age=5.678\n",
    "height = 3.446576\n",
    "weight = 19.87567\n",
    "s=(name, age, height, weight)\n",
    "# Jay is 5.678 years old, has 3.45Feet height and 19.86KG weight.\n",
    "print(name,\"is\",age,\"years old, has\",str(round(height,2))+\"Feet and\",str(round(weight,2))+\"KG weight\")"
   ]
  },
  {
   "cell_type": "code",
   "execution_count": null,
   "metadata": {},
   "outputs": [],
   "source": [
    "name=\"Jay\"\n",
    "age=5.678\n",
    "height = 3.446576\n",
    "weight = 19.87567\n",
    "s=(name, age, height, weight)\n",
    "# Jay is 5.678 years old, has 3.45Feet height and 19.86KG weight.\n",
    "print(name,\"is\",age,\"years old, has\",str(round(height,2))+\"Feet and\",str(round(weight,2))+\"KG weight\")\n",
    "#formmat specifiers"
   ]
  },
  {
   "cell_type": "code",
   "execution_count": 30,
   "metadata": {},
   "outputs": [
    {
     "name": "stdout",
     "output_type": "stream",
     "text": [
      "%s,%s,%s ('Jay', 5.678, 3.446576)\n"
     ]
    }
   ],
   "source": [
    "name=\"Jay\"\n",
    "age=5.678\n",
    "height = 3.446576\n",
    "print(\"%s,%s,%s\",(name, age, height))"
   ]
  },
  {
   "cell_type": "code",
   "execution_count": 31,
   "metadata": {},
   "outputs": [
    {
     "name": "stdout",
     "output_type": "stream",
     "text": [
      "Jay,5.678,3.446576\n"
     ]
    }
   ],
   "source": [
    "name=\"Jay\"\n",
    "age=5.678\n",
    "height = 3.446576\n",
    "print(\"%s,%s,%s\"%(name, age, height))"
   ]
  },
  {
   "cell_type": "code",
   "execution_count": 32,
   "metadata": {},
   "outputs": [
    {
     "name": "stdout",
     "output_type": "stream",
     "text": [
      "Jay,5.678000,3.446576\n"
     ]
    }
   ],
   "source": [
    "name=\"Jay\"\n",
    "age=5.678\n",
    "height = 3.446576\n",
    "print(\"%s,%f,%s\"%(name, age, height))"
   ]
  },
  {
   "cell_type": "code",
   "execution_count": 33,
   "metadata": {},
   "outputs": [
    {
     "name": "stdout",
     "output_type": "stream",
     "text": [
      "Jay,5.68,3.446576\n"
     ]
    }
   ],
   "source": [
    "name=\"Jay\"\n",
    "age=5.678\n",
    "height = 3.446576\n",
    "print(\"%s,%.2f,%s\"%(name, age, height))"
   ]
  },
  {
   "cell_type": "code",
   "execution_count": 34,
   "metadata": {},
   "outputs": [
    {
     "name": "stdout",
     "output_type": "stream",
     "text": [
      "Jay,5.68,3\n"
     ]
    }
   ],
   "source": [
    "name=\"Jay\"\n",
    "age=5.678\n",
    "height = 3.446576\n",
    "print(\"%s,%.2f,%d\"%(name, age, height))"
   ]
  },
  {
   "cell_type": "code",
   "execution_count": 37,
   "metadata": {},
   "outputs": [
    {
     "name": "stdout",
     "output_type": "stream",
     "text": [
      "Jay,5.68,3\n",
      "Jay,5.68,3\n"
     ]
    }
   ],
   "source": [
    "name=\"Jay\"\n",
    "age=5.678\n",
    "height = 3.446576\n",
    "print(\"%s,%.2f,%d\"%(name, age, height))\n",
    "print(name+\",\"+str(round(age,2))+\",\"+str(int(height)))"
   ]
  },
  {
   "cell_type": "code",
   "execution_count": 38,
   "metadata": {},
   "outputs": [
    {
     "name": "stdout",
     "output_type": "stream",
     "text": [
      "Jay is 5.678 years old, has 3.45Feet and 19.88KG weight\n",
      "Jay\n"
     ]
    }
   ],
   "source": [
    "name=\"Jay\"\n",
    "age=5.678\n",
    "height = 3.446576\n",
    "weight = 19.87567\n",
    "s=(name, age, height, weight)\n",
    "# Jay is 5.678 years old, has 3.45Feet height and 19.86KG weight.\n",
    "print(name,\"is\",age,\"years old, has\",str(round(height,2))+\"Feet and\",str(round(weight,2))+\"KG weight\")\n",
    "#formmat specifiers\n",
    "print(\"%s\"%(name))"
   ]
  },
  {
   "cell_type": "code",
   "execution_count": 39,
   "metadata": {},
   "outputs": [
    {
     "name": "stdout",
     "output_type": "stream",
     "text": [
      "Jay is 5.678 years old, has 3.45Feet and 19.88KG weight\n",
      "Jay is 5.678\n"
     ]
    }
   ],
   "source": [
    "name=\"Jay\"\n",
    "age=5.678\n",
    "height = 3.446576\n",
    "weight = 19.87567\n",
    "s=(name, age, height, weight)\n",
    "# Jay is 5.678 years old, has 3.45Feet height and 19.86KG weight.\n",
    "print(name,\"is\",age,\"years old, has\",str(round(height,2))+\"Feet and\",str(round(weight,2))+\"KG weight\")\n",
    "#formmat specifiers\n",
    "print(\"%s is %s\"%(name, age))"
   ]
  },
  {
   "cell_type": "code",
   "execution_count": 40,
   "metadata": {},
   "outputs": [
    {
     "name": "stdout",
     "output_type": "stream",
     "text": [
      "Jay is 5.678 years old, has 3.45Feet and 19.88KG weight\n",
      "Jay is 5.678 years old, has 3.446576\n"
     ]
    }
   ],
   "source": [
    "name=\"Jay\"\n",
    "age=5.678\n",
    "height = 3.446576\n",
    "weight = 19.87567\n",
    "s=(name, age, height, weight)\n",
    "# Jay is 5.678 years old, has 3.45Feet height and 19.86KG weight.\n",
    "print(name,\"is\",age,\"years old, has\",str(round(height,2))+\"Feet and\",str(round(weight,2))+\"KG weight\")\n",
    "#formmat specifiers\n",
    "print(\"%s is %s years old, has %s\"%(name, age, height))"
   ]
  },
  {
   "cell_type": "code",
   "execution_count": 41,
   "metadata": {},
   "outputs": [
    {
     "name": "stdout",
     "output_type": "stream",
     "text": [
      "Jay is 5.678 years old, has 3.45Feet and 19.88KG weight\n",
      "Jay is 5.678 years old, has 3.446576\n"
     ]
    }
   ],
   "source": [
    "name=\"Jay\"\n",
    "age=5.678\n",
    "height = 3.446576\n",
    "weight = 19.87567\n",
    "s=(name, age, height, weight)\n",
    "# Jay is 5.678 years old, has 3.45Feet height and 19.86KG weight.\n",
    "print(name,\"is\",age,\"years old, has\",str(round(height,2))+\"Feet and\",str(round(weight,2))+\"KG weight\")\n",
    "#formmat specifiers\n",
    "print(\"%s is %s years old, has %f\"%(name, age, height))"
   ]
  },
  {
   "cell_type": "code",
   "execution_count": 42,
   "metadata": {},
   "outputs": [
    {
     "name": "stdout",
     "output_type": "stream",
     "text": [
      "Jay is 5.678 years old, has 3.45Feet and 19.88KG weight\n",
      "Jay is 5.678 years old, has 3.45\n"
     ]
    }
   ],
   "source": [
    "name=\"Jay\"\n",
    "age=5.678\n",
    "height = 3.446576\n",
    "weight = 19.87567\n",
    "s=(name, age, height, weight)\n",
    "# Jay is 5.678 years old, has 3.45Feet height and 19.86KG weight.\n",
    "print(name,\"is\",age,\"years old, has\",str(round(height,2))+\"Feet and\",str(round(weight,2))+\"KG weight\")\n",
    "#formmat specifiers\n",
    "print(\"%s is %s years old, has %.2f\"%(name, age, height))"
   ]
  },
  {
   "cell_type": "code",
   "execution_count": 43,
   "metadata": {},
   "outputs": [
    {
     "name": "stdout",
     "output_type": "stream",
     "text": [
      "Jay is 5.678 years old, has 3.45Feet and 19.88KG weight\n",
      "Jay is 5.678 years old, has 3.45Feet height and 19.87567\n"
     ]
    }
   ],
   "source": [
    "name=\"Jay\"\n",
    "age=5.678\n",
    "height = 3.446576\n",
    "weight = 19.87567\n",
    "s=(name, age, height, weight)\n",
    "# Jay is 5.678 years old, has 3.45Feet height and 19.86KG weight.\n",
    "print(name,\"is\",age,\"years old, has\",str(round(height,2))+\"Feet and\",str(round(weight,2))+\"KG weight\")\n",
    "#formmat specifiers\n",
    "print(\"%s is %s years old, has %.2fFeet height and %s\"%(name, age, height,weight))"
   ]
  },
  {
   "cell_type": "code",
   "execution_count": 44,
   "metadata": {},
   "outputs": [
    {
     "name": "stdout",
     "output_type": "stream",
     "text": [
      "Jay is 5.678 years old, has 3.45Feet and 19.88KG weight\n",
      "Jay is 5.678 years old, has 3.45Feet height and 19.875670\n"
     ]
    }
   ],
   "source": [
    "name=\"Jay\"\n",
    "age=5.678\n",
    "height = 3.446576\n",
    "weight = 19.87567\n",
    "s=(name, age, height, weight)\n",
    "# Jay is 5.678 years old, has 3.45Feet height and 19.86KG weight.\n",
    "print(name,\"is\",age,\"years old, has\",str(round(height,2))+\"Feet and\",str(round(weight,2))+\"KG weight\")\n",
    "#formmat specifiers\n",
    "print(\"%s is %s years old, has %.2fFeet height and %f\"%(name, age, height,weight))"
   ]
  },
  {
   "cell_type": "code",
   "execution_count": 45,
   "metadata": {},
   "outputs": [
    {
     "name": "stdout",
     "output_type": "stream",
     "text": [
      "Jay is 5.678 years old, has 3.45Feet and 19.88KG weight\n",
      "Jay is 5.678 years old, has 3.45Feet height and 19.88\n"
     ]
    }
   ],
   "source": [
    "name=\"Jay\"\n",
    "age=5.678\n",
    "height = 3.446576\n",
    "weight = 19.87567\n",
    "s=(name, age, height, weight)\n",
    "# Jay is 5.678 years old, has 3.45Feet height and 19.86KG weight.\n",
    "print(name,\"is\",age,\"years old, has\",str(round(height,2))+\"Feet and\",str(round(weight,2))+\"KG weight\")\n",
    "#formmat specifiers\n",
    "print(\"%s is %s years old, has %.2fFeet height and %.2f\"%(name, age, height,weight))"
   ]
  },
  {
   "cell_type": "code",
   "execution_count": 47,
   "metadata": {},
   "outputs": [
    {
     "name": "stdout",
     "output_type": "stream",
     "text": [
      "Jay is 5.678 years old, has 3.45Feet height and 19.88KG weight\n",
      "Jay is 5.678 years old, has 3.45Feet height and 19.88KG weight\n"
     ]
    }
   ],
   "source": [
    "name=\"Jay\"\n",
    "age=5.678\n",
    "height = 3.446576\n",
    "weight = 19.87567\n",
    "s=(name, age, height, weight)\n",
    "# Jay is 5.678 years old, has 3.45Feet height and 19.86KG weight.\n",
    "print(name,\"is\",age,\"years old, has\",str(round(height,2))+\"Feet height and\",str(round(weight,2))+\"KG weight\")\n",
    "#formmat specifiers\n",
    "print(\"%s is %s years old, has %.2fFeet height and %.2fKG weight\"%(name, age, height,weight))"
   ]
  },
  {
   "cell_type": "code",
   "execution_count": null,
   "metadata": {},
   "outputs": [],
   "source": [
    "name=\"Jay\"\n",
    "age=5.678\n",
    "height = 3.446576\n",
    "weight = 19.87567\n",
    "s=(name, age, height, weight)\n",
    "# Jay is 5.678 years old, has 3.45Feet height and 19.86KG weight.\n",
    "print(name,\"is\",age,\"years old, has\",str(round(height,2))+\"Feet height and\",str(round(weight,2))+\"KG weight\")\n",
    "#formmat specifiers\n",
    "print(\"%s is %s years old, has %.2fFeet height and %.2fKG weight\"%(name, age, height,weight))\n",
    "# temnplate strings"
   ]
  },
  {
   "cell_type": "code",
   "execution_count": 48,
   "metadata": {},
   "outputs": [
    {
     "name": "stdout",
     "output_type": "stream",
     "text": [
      "{name}, {age}\n"
     ]
    }
   ],
   "source": [
    "name=\"jay\"\n",
    "age=5\n",
    "print(\"{name}, {age}\")"
   ]
  },
  {
   "cell_type": "code",
   "execution_count": 49,
   "metadata": {},
   "outputs": [
    {
     "name": "stdout",
     "output_type": "stream",
     "text": [
      "jay, 5\n"
     ]
    }
   ],
   "source": [
    "name=\"jay\"\n",
    "age=5\n",
    "print(f\"{name}, {age}\")"
   ]
  },
  {
   "cell_type": "code",
   "execution_count": 50,
   "metadata": {},
   "outputs": [
    {
     "name": "stdout",
     "output_type": "stream",
     "text": [
      "jay, 5,30\n"
     ]
    }
   ],
   "source": [
    "name=\"jay\"\n",
    "age=5\n",
    "print(f\"{name}, {age},{10+20}\")"
   ]
  },
  {
   "cell_type": "code",
   "execution_count": 51,
   "metadata": {},
   "outputs": [
    {
     "name": "stdout",
     "output_type": "stream",
     "text": [
      "{'jay', 3.5678, 5} <class 'set'>\n"
     ]
    }
   ],
   "source": [
    "name=\"jay\"\n",
    "age=5\n",
    "height=3.5678\n",
    "s={name,age,height}\n",
    "print(s,type(s))"
   ]
  },
  {
   "cell_type": "code",
   "execution_count": 52,
   "metadata": {},
   "outputs": [
    {
     "name": "stdout",
     "output_type": "stream",
     "text": [
      "{'jay', 3.5678, 5} <class 'set'>\n",
      "{name},{age},{height}\n"
     ]
    }
   ],
   "source": [
    "name=\"jay\"\n",
    "age=5\n",
    "height=3.5678\n",
    "s={name,age,height}\n",
    "print(s,type(s))\n",
    "s1=\"{name},{age},{height}\"\n",
    "print(s1)"
   ]
  },
  {
   "cell_type": "code",
   "execution_count": 53,
   "metadata": {},
   "outputs": [
    {
     "name": "stdout",
     "output_type": "stream",
     "text": [
      "{'jay', 3.5678, 5} <class 'set'>\n",
      "{name},{age},{height}\n",
      "jay,5,3.5678\n"
     ]
    }
   ],
   "source": [
    "name=\"jay\"\n",
    "age=5\n",
    "height=3.5678\n",
    "s={name,age,height}\n",
    "print(s,type(s))\n",
    "s1=\"{name},{age},{height}\"\n",
    "print(s1)\n",
    "s2=f\"{name},{age},{height}\"\n",
    "print(s2)"
   ]
  },
  {
   "cell_type": "code",
   "execution_count": 54,
   "metadata": {},
   "outputs": [
    {
     "name": "stdout",
     "output_type": "stream",
     "text": [
      "Jay is 5.678 years old, has 3.45Feet height and 19.88KG weight\n",
      "Jay is 5.678 years old, has 3.45Feet height and 19.88KG weight\n",
      "Jay\n"
     ]
    }
   ],
   "source": [
    "name=\"Jay\"\n",
    "age=5.678\n",
    "height = 3.446576\n",
    "weight = 19.87567\n",
    "s=(name, age, height, weight)\n",
    "# Jay is 5.678 years old, has 3.45Feet height and 19.86KG weight.\n",
    "print(name,\"is\",age,\"years old, has\",str(round(height,2))+\"Feet height and\",str(round(weight,2))+\"KG weight\")\n",
    "#formmat specifiers\n",
    "print(\"%s is %s years old, has %.2fFeet height and %.2fKG weight\"%(name, age, height,weight))\n",
    "# temnplate strings\n",
    "print(f\"{name}\")"
   ]
  },
  {
   "cell_type": "code",
   "execution_count": 55,
   "metadata": {},
   "outputs": [
    {
     "name": "stdout",
     "output_type": "stream",
     "text": [
      "Jay is 5.678 years old, has 3.45Feet height and 19.88KG weight\n",
      "Jay is 5.678 years old, has 3.45Feet height and 19.88KG weight\n",
      "Jay is 5.678 years old, has 3.446576Feet height and 19.87567KG weight\n"
     ]
    }
   ],
   "source": [
    "name=\"Jay\"\n",
    "age=5.678\n",
    "height = 3.446576\n",
    "weight = 19.87567\n",
    "s=(name, age, height, weight)\n",
    "# Jay is 5.678 years old, has 3.45Feet height and 19.86KG weight.\n",
    "print(name,\"is\",age,\"years old, has\",str(round(height,2))+\"Feet height and\",str(round(weight,2))+\"KG weight\")\n",
    "#formmat specifiers\n",
    "print(\"%s is %s years old, has %.2fFeet height and %.2fKG weight\"%(name, age, height,weight))\n",
    "# temnplate strings\n",
    "print(f\"{name} is {age} years old, has {height}Feet height and {weight}KG weight\")"
   ]
  },
  {
   "cell_type": "code",
   "execution_count": 56,
   "metadata": {},
   "outputs": [
    {
     "name": "stdout",
     "output_type": "stream",
     "text": [
      "Jay is 5.678 years old, has 3.45Feet height and 19.88KG weight\n",
      "Jay is 5.678 years old, has 3.45Feet height and 19.88KG weight\n",
      "Jay is 5.678 years old, has 3.446576Feet height and 19.875670KG weight\n"
     ]
    }
   ],
   "source": [
    "name=\"Jay\"\n",
    "age=5.678\n",
    "height = 3.446576\n",
    "weight = 19.87567\n",
    "s=(name, age, height, weight)\n",
    "# Jay is 5.678 years old, has 3.45Feet height and 19.86KG weight.\n",
    "print(name,\"is\",age,\"years old, has\",str(round(height,2))+\"Feet height and\",str(round(weight,2))+\"KG weight\")\n",
    "#formmat specifiers\n",
    "print(\"%s is %s years old, has %.2fFeet height and %.2fKG weight\"%(name, age, height,weight))\n",
    "# temnplate strings\n",
    "print(f\"{name} is {age} years old, has {height:f}Feet height and {weight:f}KG weight\")"
   ]
  },
  {
   "cell_type": "code",
   "execution_count": 57,
   "metadata": {},
   "outputs": [
    {
     "name": "stdout",
     "output_type": "stream",
     "text": [
      "Jay is 5.678 years old, has 3.45Feet height and 19.88KG weight\n",
      "Jay is 5.678 years old, has 3.45Feet height and 19.88KG weight\n",
      "Jay is 5.678 years old, has 3.45Feet height and 19.88KG weight\n"
     ]
    }
   ],
   "source": [
    "name=\"Jay\"\n",
    "age=5.678\n",
    "height = 3.446576\n",
    "weight = 19.87567\n",
    "s=(name, age, height, weight)\n",
    "# Jay is 5.678 years old, has 3.45Feet height and 19.86KG weight.\n",
    "print(name,\"is\",age,\"years old, has\",str(round(height,2))+\"Feet height and\",str(round(weight,2))+\"KG weight\")\n",
    "#formmat specifiers\n",
    "print(\"%s is %s years old, has %.2fFeet height and %.2fKG weight\"%(name, age, height,weight))\n",
    "# temnplate strings\n",
    "print(f\"{name} is {age} years old, has {height:.2f}Feet height and {weight:.2f}KG weight\")"
   ]
  },
  {
   "cell_type": "code",
   "execution_count": 58,
   "metadata": {},
   "outputs": [
    {
     "name": "stdout",
     "output_type": "stream",
     "text": [
      "Jay is 5.678 years old, has 3.45Feet height and 19.88KG weight\n",
      "Jay is 5.678 years old, has 3.45Feet height and 19.88KG weight\n",
      "Jay is 5.678 years old, has 3.45Feet height and 19.88KG weight ffdds\n"
     ]
    }
   ],
   "source": [
    "name=\"Jay\"\n",
    "age=5.678\n",
    "height = 3.446576\n",
    "weight = 19.87567\n",
    "s=(name, age, height, weight)\n",
    "# Jay is 5.678 years old, has 3.45Feet height and 19.86KG weight.\n",
    "print(name,\"is\",age,\"years old, has\",str(round(height,2))+\"Feet height and\",str(round(weight,2))+\"KG weight\")\n",
    "#formmat specifiers\n",
    "print(\"%s is %s years old, has %.2fFeet height and %.2fKG weight\"%(name, age, height,weight))\n",
    "# temnplate strings\n",
    "print(f\"{name} is {age} years old, has {height:.2f}Feet height and {weight:.2f}KG weight ffdds\")"
   ]
  },
  {
   "cell_type": "code",
   "execution_count": null,
   "metadata": {},
   "outputs": [],
   "source": []
  }
 ],
 "metadata": {
  "kernelspec": {
   "display_name": "Python 3",
   "language": "python",
   "name": "python3"
  },
  "language_info": {
   "codemirror_mode": {
    "name": "ipython",
    "version": 3
   },
   "file_extension": ".py",
   "mimetype": "text/x-python",
   "name": "python",
   "nbconvert_exporter": "python",
   "pygments_lexer": "ipython3",
   "version": "3.8.3"
  }
 },
 "nbformat": 4,
 "nbformat_minor": 4
}
