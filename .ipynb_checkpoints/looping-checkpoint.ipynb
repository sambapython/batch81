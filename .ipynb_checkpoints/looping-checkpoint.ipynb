{
 "cells": [
  {
   "cell_type": "code",
   "execution_count": 1,
   "metadata": {},
   "outputs": [
    {
     "name": "stdout",
     "output_type": "stream",
     "text": [
      "positive\n"
     ]
    }
   ],
   "source": [
    "n=10\n",
    "if n>0:\n",
    "    print(\"positive\")\n",
    "else:\n",
    "    print(\"negative\")"
   ]
  },
  {
   "cell_type": "code",
   "execution_count": 2,
   "metadata": {},
   "outputs": [
    {
     "name": "stdout",
     "output_type": "stream",
     "text": [
      "10->positive\n"
     ]
    }
   ],
   "source": [
    "l=[10,-20,30]\n",
    "#10->positive\n",
    "#-20->negative\n",
    "#30->positive\n",
    "n=l[0]\n",
    "if n>0:\n",
    "    print(\"%s->positive\"%n)\n",
    "else:\n",
    "    print(\"%s->negative\"%n)"
   ]
  },
  {
   "cell_type": "code",
   "execution_count": 3,
   "metadata": {},
   "outputs": [
    {
     "name": "stdout",
     "output_type": "stream",
     "text": [
      "10->positive\n",
      "-20->negative\n"
     ]
    }
   ],
   "source": [
    "l=[10,-20,30]\n",
    "#10->positive\n",
    "#-20->negative\n",
    "#30->positive\n",
    "n=l[0]\n",
    "if n>0:\n",
    "    print(\"%s->positive\"%n)\n",
    "else:\n",
    "    print(\"%s->negative\"%n)\n",
    "n=l[1]\n",
    "if n>0:\n",
    "    print(\"%s->positive\"%n)\n",
    "else:\n",
    "    print(\"%s->negative\"%n)"
   ]
  },
  {
   "cell_type": "code",
   "execution_count": 4,
   "metadata": {},
   "outputs": [
    {
     "name": "stdout",
     "output_type": "stream",
     "text": [
      "10->positive\n",
      "-20->negative\n",
      "30->positive\n"
     ]
    }
   ],
   "source": [
    "l=[10,-20,30]\n",
    "#10->positive\n",
    "#-20->negative\n",
    "#30->positive\n",
    "n=l[0]\n",
    "if n>0:\n",
    "    print(\"%s->positive\"%n)\n",
    "else:\n",
    "    print(\"%s->negative\"%n)\n",
    "n=l[1]\n",
    "if n>0:\n",
    "    print(\"%s->positive\"%n)\n",
    "else:\n",
    "    print(\"%s->negative\"%n)\n",
    "n=l[2]\n",
    "if n>0:\n",
    "    print(\"%s->positive\"%n)\n",
    "else:\n",
    "    print(\"%s->negative\"%n)"
   ]
  },
  {
   "cell_type": "code",
   "execution_count": 5,
   "metadata": {},
   "outputs": [
    {
     "name": "stdout",
     "output_type": "stream",
     "text": [
      "10\n",
      "-20\n",
      "30\n"
     ]
    }
   ],
   "source": [
    "l=[10,-20,30]\n",
    "for i in l:#i=10, i=-20,i=30\n",
    "    print(i)"
   ]
  },
  {
   "cell_type": "code",
   "execution_count": 6,
   "metadata": {},
   "outputs": [
    {
     "name": "stdout",
     "output_type": "stream",
     "text": [
      "start\n",
      "looping started\n",
      "10\n",
      "looping ended.\n",
      "looping started\n",
      "-20\n",
      "looping ended.\n",
      "looping started\n",
      "30\n",
      "looping ended.\n",
      "end\n"
     ]
    }
   ],
   "source": [
    "print(\"start\")\n",
    "l=[10,-20,30]\n",
    "for i in l:#i=10,i=-20,i=30\n",
    "    print(\"looping started\")\n",
    "    print(i)\n",
    "    print(\"looping ended.\")\n",
    "print(\"end\")"
   ]
  },
  {
   "cell_type": "code",
   "execution_count": 7,
   "metadata": {},
   "outputs": [
    {
     "name": "stdout",
     "output_type": "stream",
     "text": [
      "10->positive\n",
      "-20->negative\n",
      "30->positive\n",
      "hello\n",
      "hi\n"
     ]
    }
   ],
   "source": [
    "\n",
    "l=[10,-20,30]\n",
    "for n in l:#n=10,n=-20,n=30\n",
    "    if n>0:#True,False,True\n",
    "        print(\"%s->positive\"%n)\n",
    "    else:\n",
    "        print(\"%s->negative\"%n)\n",
    "print(\"hello\")\n",
    "print(\"hi\")"
   ]
  },
  {
   "cell_type": "code",
   "execution_count": 8,
   "metadata": {},
   "outputs": [
    {
     "name": "stdout",
     "output_type": "stream",
     "text": [
      "10 ->positive\n",
      "-20 ->negative\n",
      "30 ->positive\n",
      "hello\n",
      "hi\n"
     ]
    }
   ],
   "source": [
    "\n",
    "l=[10,-20,30]\n",
    "for n in l:#n=10,n=-20,n=30\n",
    "    if n>0:#True,False,True\n",
    "        print(n,\"->positive\")\n",
    "    else:\n",
    "        print(n,\"->negative\")\n",
    "print(\"hello\")\n",
    "print(\"hi\")"
   ]
  },
  {
   "cell_type": "code",
   "execution_count": null,
   "metadata": {},
   "outputs": [],
   "source": [
    "l=\"python\"\n",
    "for i in l:\n",
    "    print(i)"
   ]
  },
  {
   "cell_type": "code",
   "execution_count": null,
   "metadata": {},
   "outputs": [],
   "source": [
    "l=(1,2,3,4)\n",
    "for i in l:\n",
    "    print(i)"
   ]
  },
  {
   "cell_type": "code",
   "execution_count": null,
   "metadata": {},
   "outputs": [],
   "source": [
    "l=10\n",
    "l=12.34\n",
    "l={10,20,30,4}\n",
    "l={\"name\":\"jay\",\"age\":5}\n",
    "l=True\n",
    "l=None"
   ]
  },
  {
   "cell_type": "code",
   "execution_count": null,
   "metadata": {},
   "outputs": [],
   "source": [
    "l=[10,-21,23,-29,24,-25,26]\n"
   ]
  },
  {
   "cell_type": "code",
   "execution_count": null,
   "metadata": {},
   "outputs": [],
   "source": [
    "s={\"sai\",\"jay\",\"vedha\"}\n",
    "d={\"name\":\"jay\",\"age\":5}"
   ]
  },
  {
   "cell_type": "code",
   "execution_count": null,
   "metadata": {},
   "outputs": [],
   "source": [
    "l=[10,-21,23,-29,24,-25,26]\n",
    "#positive_count=4, negative_count=3"
   ]
  },
  {
   "cell_type": "code",
   "execution_count": 1,
   "metadata": {},
   "outputs": [
    {
     "name": "stdout",
     "output_type": "stream",
     "text": [
      "10\n",
      "-21\n",
      "23\n",
      "24\n",
      "-25\n",
      "26\n"
     ]
    }
   ],
   "source": [
    "l=[10,-21,23,24,-25,26]\n",
    "#positive_count=4, negative_count=2\n",
    "for i in l:\n",
    "    if i>0:\n",
    "        print(i)\n",
    "    else:\n",
    "        print(i)"
   ]
  },
  {
   "cell_type": "code",
   "execution_count": 2,
   "metadata": {},
   "outputs": [
    {
     "name": "stdout",
     "output_type": "stream",
     "text": [
      "10\n",
      "23\n",
      "24\n",
      "26\n"
     ]
    }
   ],
   "source": [
    "l=[10,-21,23,24,-25,26]\n",
    "#positive_count=4, negative_count=2\n",
    "for i in l:\n",
    "    if i>0:\n",
    "        print(i)"
   ]
  },
  {
   "cell_type": "code",
   "execution_count": 3,
   "metadata": {},
   "outputs": [
    {
     "name": "stdout",
     "output_type": "stream",
     "text": [
      "-21\n",
      "-25\n"
     ]
    }
   ],
   "source": [
    "l=[10,-21,23,24,-25,26]\n",
    "#positive_count=4, negative_count=2\n",
    "for i in l:\n",
    "    if i<0:\n",
    "        print(i)"
   ]
  },
  {
   "cell_type": "code",
   "execution_count": 4,
   "metadata": {},
   "outputs": [
    {
     "name": "stdout",
     "output_type": "stream",
     "text": [
      "negative_count: 2 positive_count: 4\n"
     ]
    }
   ],
   "source": [
    "l=[10,-21,23,24,-25,26]\n",
    "positive_count=0 \n",
    "negative_count=0\n",
    "for i in l:#i=10,-21,23\n",
    "    if i>0:\n",
    "        positive_count=positive_count+1#2\n",
    "    else:\n",
    "        negative_count = negative_count+1#1\n",
    "        \n",
    "print(\"negative_count:\",negative_count,\"positive_count:\",positive_count)"
   ]
  },
  {
   "cell_type": "code",
   "execution_count": 5,
   "metadata": {},
   "outputs": [
    {
     "name": "stdout",
     "output_type": "stream",
     "text": [
      "c= 6\n"
     ]
    }
   ],
   "source": [
    "s=\"python\"\n",
    "c=0\n",
    "for i in s:#i=n\n",
    "    c=c+1#0+1=1,c=1,1+1=2,c=2,c=6\n",
    "print(\"c=\",c)  "
   ]
  },
  {
   "cell_type": "code",
   "execution_count": null,
   "metadata": {},
   "outputs": [],
   "source": [
    "l=[10,-21,23,24,-25,26]\n",
    "positive_count=0 \n",
    "negative_count=0\n",
    "for i in l:#i=24\n",
    "    if i>0:\n",
    "        positive_count=positive_count+1#3\n",
    "    else:\n",
    "        negative_count = negative_count+1#1\n",
    "        \n",
    "print(\"negative_count:\",negative_count,\"positive_count:\",positive_count)"
   ]
  },
  {
   "cell_type": "code",
   "execution_count": 6,
   "metadata": {},
   "outputs": [
    {
     "name": "stdout",
     "output_type": "stream",
     "text": [
      "d= 1\n",
      "c= 0\n"
     ]
    }
   ],
   "source": [
    "s=\"python\"\n",
    "c=0\n",
    "d=0\n",
    "for i in s:#i=t\n",
    "    d=c+1#0+1=1: d=1,c=0;0+1=1:d=1,c=0; d=1, c=0; \n",
    "print(\"d=\",d)\n",
    "print(\"c=\",c)"
   ]
  },
  {
   "cell_type": "code",
   "execution_count": 7,
   "metadata": {},
   "outputs": [
    {
     "name": "stdout",
     "output_type": "stream",
     "text": [
      "d= -5\n",
      "c= -6\n"
     ]
    }
   ],
   "source": [
    "s=\"python\"\n",
    "c=0\n",
    "d=0\n",
    "for i in s:#i=n\n",
    "    c=c-1#c=-6\n",
    "    d=c+1#d=-5\n",
    "print(\"d=\",d)\n",
    "print(\"c=\",c)"
   ]
  },
  {
   "cell_type": "code",
   "execution_count": 9,
   "metadata": {},
   "outputs": [
    {
     "name": "stdout",
     "output_type": "stream",
     "text": [
      "negative_count: 2 positive_count: 4\n"
     ]
    }
   ],
   "source": [
    "l=[10,-21,23,24,-25,26]\n",
    "positive_count=0 \n",
    "negative_count=0\n",
    "for i in l:#i=10,-21,23,24,-25,26\n",
    "    if i>0:#True,False,True,True,False,True\n",
    "        positive_count=positive_count+1#1,1,2,3,3,4\n",
    "    else:\n",
    "        negative_count = negative_count+1#0,1,1,1,2,2\n",
    "        \n",
    "print(\"negative_count:\",negative_count,\"positive_count:\",positive_count)"
   ]
  },
  {
   "cell_type": "code",
   "execution_count": 10,
   "metadata": {},
   "outputs": [
    {
     "name": "stdout",
     "output_type": "stream",
     "text": [
      "negative_count: 2 positive_count: 4\n"
     ]
    }
   ],
   "source": [
    "l=[10,-21,23,24,-25,26]\n",
    "positive_count=0 \n",
    "negative_count=0\n",
    "for number in l:#i=10,-21,23,24,-25,26\n",
    "    if number>0:#True,False,True,True,False,True\n",
    "        positive_count=positive_count+1#1,1,2,3,3,4\n",
    "    else:\n",
    "        negative_count = negative_count+1#0,1,1,1,2,2\n",
    "        \n",
    "print(\"negative_count:\",negative_count,\"positive_count:\",positive_count)"
   ]
  },
  {
   "cell_type": "code",
   "execution_count": 11,
   "metadata": {},
   "outputs": [
    {
     "name": "stdout",
     "output_type": "stream",
     "text": [
      "negative_count: 2 positive_count: 4\n"
     ]
    }
   ],
   "source": [
    "l=[10,-21,23,24,-25,26]\n",
    "positive_count=0 \n",
    "negative_count=0\n",
    "for k in l:#i=10,-21,23,24,-25,26\n",
    "    if k>0:#True,False,True,True,False,True\n",
    "        positive_count=positive_count+1#1,1,2,3,3,4\n",
    "    else:\n",
    "        negative_count = negative_count+1#0,1,1,1,2,2\n",
    "        \n",
    "print(\"negative_count:\",negative_count,\"positive_count:\",positive_count)"
   ]
  },
  {
   "cell_type": "code",
   "execution_count": null,
   "metadata": {},
   "outputs": [],
   "source": [
    "k=0\n",
    "s=\"python\"\n",
    "for i in s:\n",
    "    print(k)\n",
    "print(\"end\")"
   ]
  }
 ],
 "metadata": {
  "kernelspec": {
   "display_name": "Python 3",
   "language": "python",
   "name": "python3"
  },
  "language_info": {
   "codemirror_mode": {
    "name": "ipython",
    "version": 3
   },
   "file_extension": ".py",
   "mimetype": "text/x-python",
   "name": "python",
   "nbconvert_exporter": "python",
   "pygments_lexer": "ipython3",
   "version": "3.8.3"
  }
 },
 "nbformat": 4,
 "nbformat_minor": 4
}
