{
 "cells": [
  {
   "cell_type": "code",
   "execution_count": 1,
   "metadata": {},
   "outputs": [
    {
     "name": "stdout",
     "output_type": "stream",
     "text": [
      "start\n",
      "a is big\n",
      "b is big\n",
      "end\n"
     ]
    }
   ],
   "source": [
    "print(\"start\")\n",
    "a=10\n",
    "b=20\n",
    "print(\"a is big\")\n",
    "print(\"b is big\")\n",
    "print(\"end\")"
   ]
  },
  {
   "cell_type": "code",
   "execution_count": 2,
   "metadata": {},
   "outputs": [
    {
     "name": "stdout",
     "output_type": "stream",
     "text": [
      "start\n",
      "a is big\n",
      "b is big\n",
      "end\n"
     ]
    }
   ],
   "source": [
    "print(\"start\")\n",
    "a=10\n",
    "b=20\n",
    "if True:# if block\n",
    "    print(\"a is big\")\n",
    "print(\"b is big\")\n",
    "print(\"end\")"
   ]
  },
  {
   "cell_type": "code",
   "execution_count": 3,
   "metadata": {},
   "outputs": [
    {
     "name": "stdout",
     "output_type": "stream",
     "text": [
      "start\n",
      "b is big\n",
      "end\n"
     ]
    }
   ],
   "source": [
    "print(\"start\")\n",
    "a=10\n",
    "b=20\n",
    "if False:# if block\n",
    "    print(\"a is big\")\n",
    "print(\"b is big\")\n",
    "print(\"end\")"
   ]
  },
  {
   "cell_type": "code",
   "execution_count": 4,
   "metadata": {},
   "outputs": [
    {
     "name": "stdout",
     "output_type": "stream",
     "text": [
      "start\n",
      "b is big\n",
      "end\n"
     ]
    }
   ],
   "source": [
    "print(\"start\")\n",
    "a=10\n",
    "b=20\n",
    "if False:# if block\n",
    "    print(\"a is big\")\n",
    "print(\"b is big\")\n",
    "print(\"end\")"
   ]
  },
  {
   "cell_type": "code",
   "execution_count": 5,
   "metadata": {},
   "outputs": [
    {
     "name": "stdout",
     "output_type": "stream",
     "text": [
      "start\n",
      "b is big\n",
      "end\n"
     ]
    }
   ],
   "source": [
    "print(\"start\")\n",
    "a=10\n",
    "b=20\n",
    "if False:# if block\n",
    "    print(\"a is big\")\n",
    "else:\n",
    "    print(\"b is big\")\n",
    "print(\"end\")"
   ]
  },
  {
   "cell_type": "code",
   "execution_count": 6,
   "metadata": {},
   "outputs": [
    {
     "name": "stdout",
     "output_type": "stream",
     "text": [
      "start\n",
      "a is big\n",
      "end\n"
     ]
    }
   ],
   "source": [
    "print(\"start\")\n",
    "a=10\n",
    "b=20\n",
    "if True:# if block\n",
    "    print(\"a is big\")\n",
    "else:\n",
    "    print(\"b is big\")\n",
    "print(\"end\")"
   ]
  },
  {
   "cell_type": "code",
   "execution_count": 7,
   "metadata": {},
   "outputs": [
    {
     "name": "stdout",
     "output_type": "stream",
     "text": [
      "False\n"
     ]
    }
   ],
   "source": [
    "a=10\n",
    "b=20\n",
    "print(a>b)"
   ]
  },
  {
   "cell_type": "code",
   "execution_count": 8,
   "metadata": {},
   "outputs": [
    {
     "name": "stdout",
     "output_type": "stream",
     "text": [
      "True\n"
     ]
    }
   ],
   "source": [
    "a=100\n",
    "b=20\n",
    "print(a>b)"
   ]
  },
  {
   "cell_type": "code",
   "execution_count": 9,
   "metadata": {},
   "outputs": [
    {
     "name": "stdout",
     "output_type": "stream",
     "text": [
      "start\n",
      "b is big\n",
      "end\n"
     ]
    }
   ],
   "source": [
    "print(\"start\")\n",
    "a=10\n",
    "b=20\n",
    "if a>b:# if block\n",
    "    print(\"a is big\")\n",
    "else:\n",
    "    print(\"b is big\")\n",
    "print(\"end\")"
   ]
  },
  {
   "cell_type": "code",
   "execution_count": 10,
   "metadata": {},
   "outputs": [
    {
     "name": "stdout",
     "output_type": "stream",
     "text": [
      "start\n",
      "a is big\n",
      "end\n"
     ]
    }
   ],
   "source": [
    "print(\"start\")\n",
    "a=100\n",
    "b=20\n",
    "if a>b:# if block\n",
    "    print(\"a is big\")\n",
    "else:\n",
    "    print(\"b is big\")\n",
    "print(\"end\")"
   ]
  },
  {
   "cell_type": "code",
   "execution_count": 11,
   "metadata": {},
   "outputs": [
    {
     "name": "stdout",
     "output_type": "stream",
     "text": [
      "start\n",
      "b is big\n",
      "end\n"
     ]
    }
   ],
   "source": [
    "print(\"start\")\n",
    "a=100\n",
    "b=20\n",
    "if a>b:  # if block\n",
    "    print(\"b is big\")\n",
    "else:\n",
    "    print(\"a is big\")\n",
    "print(\"end\")"
   ]
  },
  {
   "cell_type": "code",
   "execution_count": 12,
   "metadata": {},
   "outputs": [
    {
     "name": "stdout",
     "output_type": "stream",
     "text": [
      "start\n",
      "a is big\n",
      "end\n"
     ]
    }
   ],
   "source": [
    "print(\"start\")\n",
    "a=100\n",
    "b=200\n",
    "if a>b:  # if block\n",
    "    print(\"b is big\")\n",
    "else:\n",
    "    print(\"a is big\")\n",
    "print(\"end\")"
   ]
  },
  {
   "cell_type": "code",
   "execution_count": 13,
   "metadata": {},
   "outputs": [
    {
     "name": "stdout",
     "output_type": "stream",
     "text": [
      "Enter string:python\n",
      "python 6\n"
     ]
    }
   ],
   "source": [
    "s=input(\"Enter string:\")\n",
    "print(s, len(s))"
   ]
  },
  {
   "cell_type": "code",
   "execution_count": 14,
   "metadata": {},
   "outputs": [
    {
     "name": "stdout",
     "output_type": "stream",
     "text": [
      "Enter string:\n",
      " 0\n"
     ]
    }
   ],
   "source": [
    "s=input(\"Enter string:\")\n",
    "print(s, len(s))"
   ]
  },
  {
   "cell_type": "code",
   "execution_count": 15,
   "metadata": {},
   "outputs": [
    {
     "name": "stdout",
     "output_type": "stream",
     "text": [
      "Enter string:python\n",
      "python 6\n"
     ]
    }
   ],
   "source": [
    "s=input(\"Enter string:\")\n",
    "print(s, len(s))"
   ]
  },
  {
   "cell_type": "code",
   "execution_count": 16,
   "metadata": {},
   "outputs": [
    {
     "name": "stdout",
     "output_type": "stream",
     "text": [
      "Enter string:\n",
      " 0\n"
     ]
    }
   ],
   "source": [
    "s=input(\"Enter string:\")\n",
    "print(s, len(s))"
   ]
  },
  {
   "cell_type": "code",
   "execution_count": 1,
   "metadata": {},
   "outputs": [
    {
     "name": "stdout",
     "output_type": "stream",
     "text": [
      "Enter city:hyderabad\n",
      "hyderabad\n"
     ]
    }
   ],
   "source": [
    "temp_bang=13\n",
    "temp_chen=14\n",
    "temp_hyd=8\n",
    "city = input(\"Enter city:\")\n",
    "print(city)"
   ]
  },
  {
   "cell_type": "code",
   "execution_count": 2,
   "metadata": {},
   "outputs": [
    {
     "name": "stdout",
     "output_type": "stream",
     "text": [
      "Enter city:hyderabad\n",
      "8\n",
      "thank you use me again..\n"
     ]
    }
   ],
   "source": [
    "temp_bang=13\n",
    "temp_chen=14\n",
    "temp_hyd=8\n",
    "city = input(\"Enter city:\")\n",
    "if city == \"hyderabad\":\n",
    "    print(temp_hyd)\n",
    "if city == \"banglore\":\n",
    "    print(temp_bang)\n",
    "if city == \"chennai\":\n",
    "    print(temp_chen)\n",
    "print(\"thank you use me again..\")"
   ]
  },
  {
   "cell_type": "code",
   "execution_count": 3,
   "metadata": {},
   "outputs": [
    {
     "name": "stdout",
     "output_type": "stream",
     "text": [
      "Enter city:banglore\n",
      "13\n",
      "thank you use me again..\n"
     ]
    }
   ],
   "source": [
    "temp_bang=13\n",
    "temp_chen=14\n",
    "temp_hyd=8\n",
    "city = input(\"Enter city:\")\n",
    "if city == \"hyderabad\":\n",
    "    print(temp_hyd)\n",
    "if city == \"banglore\":\n",
    "    print(temp_bang)\n",
    "if city == \"chennai\":\n",
    "    print(temp_chen)\n",
    "print(\"thank you use me again..\")"
   ]
  },
  {
   "cell_type": "code",
   "execution_count": 4,
   "metadata": {},
   "outputs": [
    {
     "name": "stdout",
     "output_type": "stream",
     "text": [
      "Enter city:bangalore\n",
      "thank you use me again..\n"
     ]
    }
   ],
   "source": [
    "temp_bang=13\n",
    "temp_chen=14\n",
    "temp_hyd=8\n",
    "city = input(\"Enter city:\")\n",
    "if city == \"hyderabad\":\n",
    "    print(temp_hyd)\n",
    "if city == \"banglore\":\n",
    "    print(temp_bang)\n",
    "if city == \"chennai\":\n",
    "    print(temp_chen)\n",
    "print(\"thank you use me again..\")"
   ]
  },
  {
   "cell_type": "code",
   "execution_count": 5,
   "metadata": {},
   "outputs": [
    {
     "name": "stdout",
     "output_type": "stream",
     "text": [
      "1.Hyderbad\n",
      "2.banglore\n",
      "3.chennnai\n",
      "Enter city code:2\n",
      "13\n",
      "thank you use me again..\n"
     ]
    }
   ],
   "source": [
    "temp_bang=13\n",
    "temp_chen=14\n",
    "temp_hyd=8\n",
    "print(\"1.Hyderbad\\n2.banglore\\n3.chennnai\")\n",
    "city = input(\"Enter city code:\")\n",
    "if city == \"1\":\n",
    "    print(temp_hyd)\n",
    "if city == \"2\":\n",
    "    print(temp_bang)\n",
    "if city == \"3\":\n",
    "    print(temp_chen)\n",
    "print(\"thank you use me again..\")"
   ]
  },
  {
   "cell_type": "code",
   "execution_count": null,
   "metadata": {},
   "outputs": [],
   "source": []
  }
 ],
 "metadata": {
  "kernelspec": {
   "display_name": "Python 3",
   "language": "python",
   "name": "python3"
  },
  "language_info": {
   "codemirror_mode": {
    "name": "ipython",
    "version": 3
   },
   "file_extension": ".py",
   "mimetype": "text/x-python",
   "name": "python",
   "nbconvert_exporter": "python",
   "pygments_lexer": "ipython3",
   "version": "3.8.3"
  }
 },
 "nbformat": 4,
 "nbformat_minor": 4
}
